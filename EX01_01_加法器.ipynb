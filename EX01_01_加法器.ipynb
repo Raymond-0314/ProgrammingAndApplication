{
  "nbformat": 4,
  "nbformat_minor": 0,
  "metadata": {
    "colab": {
      "provenance": [],
      "authorship_tag": "ABX9TyNZs3+3X0ObCUM8eA2RcgMZ",
      "include_colab_link": true
    },
    "kernelspec": {
      "name": "python3",
      "display_name": "Python 3"
    },
    "language_info": {
      "name": "python"
    }
  },
  "cells": [
    {
      "cell_type": "markdown",
      "metadata": {
        "id": "view-in-github",
        "colab_type": "text"
      },
      "source": [
        "<a href=\"https://colab.research.google.com/github/Raymond-0314/ProgrammingAndApplication/blob/main/EX01_01_%E5%8A%A0%E6%B3%95%E5%99%A8.ipynb\" target=\"_parent\"><img src=\"https://colab.research.google.com/assets/colab-badge.svg\" alt=\"Open In Colab\"/></a>"
      ]
    },
    {
      "cell_type": "code",
      "execution_count": 4,
      "metadata": {
        "colab": {
          "base_uri": "https://localhost:8080/"
        },
        "id": "9c60qZyh2gAY",
        "outputId": "1d9f4119-b0c8-457a-ca9d-899ff8b30df8"
      },
      "outputs": [
        {
          "output_type": "stream",
          "name": "stdout",
          "text": [
            "輸入整數1 = 8\n",
            "輸入整數2 = 28\n",
            "整數相加結果 = 36\n"
          ]
        }
      ],
      "source": [
        "#取得整數1\n",
        "n1 = input(\"輸入整數1 = \")\n",
        "\n",
        "#取得整數2\n",
        "n2 = input(\"輸入整數2 = \")\n",
        "\n",
        "#兩整數相加\n",
        "n3 = int(n1) + int(n2)\n",
        "\n",
        "#輸出相加結果\n",
        "print(\"整數相加結果 =\", n3)"
      ]
    }
  ]
}