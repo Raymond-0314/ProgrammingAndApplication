{
  "nbformat": 4,
  "nbformat_minor": 0,
  "metadata": {
    "colab": {
      "provenance": [],
      "authorship_tag": "ABX9TyP8xciJT1vhYU7iAsGU5GhE",
      "include_colab_link": true
    },
    "kernelspec": {
      "name": "python3",
      "display_name": "Python 3"
    },
    "language_info": {
      "name": "python"
    }
  },
  "cells": [
    {
      "cell_type": "markdown",
      "metadata": {
        "id": "view-in-github",
        "colab_type": "text"
      },
      "source": [
        "<a href=\"https://colab.research.google.com/github/Raymond-0314/ProgrammingAndApplication/blob/main/EX01_02_BMI_%E8%A8%88%E7%AE%97.ipynb\" target=\"_parent\"><img src=\"https://colab.research.google.com/assets/colab-badge.svg\" alt=\"Open In Colab\"/></a>"
      ]
    },
    {
      "cell_type": "code",
      "execution_count": 7,
      "metadata": {
        "colab": {
          "base_uri": "https://localhost:8080/"
        },
        "id": "JkEipUkYF9im",
        "outputId": "41dd737e-567c-4a3c-b39f-4607e2dfa4bd"
      },
      "outputs": [
        {
          "output_type": "stream",
          "name": "stdout",
          "text": [
            "請輸入身高(cm) = 177\n",
            "請輸入體重(kg) = 80\n",
            "BMI值為 = 25.5\n"
          ]
        }
      ],
      "source": [
        "#取得身高\n",
        "height = input(\"請輸入身高(cm) = \")\n",
        "\n",
        "#取得體重\n",
        "weight = input(\"請輸入體重(kg) = \")\n",
        "\n",
        "#換算為BMI值\n",
        "BMI = float(weight) / ((float(height) * 0.01)**2)\n",
        "\n",
        "#輸出結果\n",
        "print(\"BMI值為 =\", round(BMI, 1))"
      ]
    }
  ]
}