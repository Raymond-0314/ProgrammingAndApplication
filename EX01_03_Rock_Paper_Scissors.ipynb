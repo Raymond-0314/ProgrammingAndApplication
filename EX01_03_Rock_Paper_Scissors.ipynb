{
  "nbformat": 4,
  "nbformat_minor": 0,
  "metadata": {
    "colab": {
      "provenance": [],
      "authorship_tag": "ABX9TyOr1HRlZZTPlNvQGnfQ3XJX",
      "include_colab_link": true
    },
    "kernelspec": {
      "name": "python3",
      "display_name": "Python 3"
    },
    "language_info": {
      "name": "python"
    }
  },
  "cells": [
    {
      "cell_type": "markdown",
      "metadata": {
        "id": "view-in-github",
        "colab_type": "text"
      },
      "source": [
        "<a href=\"https://colab.research.google.com/github/Raymond-0314/ProgrammingAndApplication/blob/main/EX01_03_Rock_Paper_Scissors.ipynb\" target=\"_parent\"><img src=\"https://colab.research.google.com/assets/colab-badge.svg\" alt=\"Open In Colab\"/></a>"
      ]
    },
    {
      "cell_type": "code",
      "execution_count": 11,
      "metadata": {
        "colab": {
          "base_uri": "https://localhost:8080/"
        },
        "id": "x5SZWAvnLVf4",
        "outputId": "24f52510-83da-4a99-b026-38eaab49fc6a"
      },
      "outputs": [
        {
          "output_type": "stream",
          "name": "stdout",
          "text": [
            "玩家出拳(0石頭/2剪刀/5布) = 2\n",
            "電腦出拳 = 0\n",
            "\n",
            "You lost 玩家輸\n"
          ]
        }
      ],
      "source": [
        "import random\n",
        "\n",
        "player = int(input(\"玩家出拳(0石頭/2剪刀/5布) = \"))\n",
        "computer = int(random.choice([0, 2, 5]))\n",
        "print(\"電腦出拳 =\", computer)\n",
        "\n",
        "if player == computer:\n",
        "  print(\"\\nDraw 平⼿\")\n",
        "elif ((player == 0) and (computer == 2)) or ((player == 2) and (computer == 5)) or ((player == 5) and (computer == 0)):\n",
        "  print(\"\\nYou win 玩家贏\")\n",
        "else:\n",
        "  print(\"\\nYou lost 玩家輸\")"
      ]
    }
  ]
}