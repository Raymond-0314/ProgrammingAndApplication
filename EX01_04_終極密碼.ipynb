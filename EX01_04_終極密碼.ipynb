{
  "nbformat": 4,
  "nbformat_minor": 0,
  "metadata": {
    "colab": {
      "provenance": [],
      "authorship_tag": "ABX9TyP4i2wTtMD8bnMKg98Dj50N",
      "include_colab_link": true
    },
    "kernelspec": {
      "name": "python3",
      "display_name": "Python 3"
    },
    "language_info": {
      "name": "python"
    }
  },
  "cells": [
    {
      "cell_type": "markdown",
      "metadata": {
        "id": "view-in-github",
        "colab_type": "text"
      },
      "source": [
        "<a href=\"https://colab.research.google.com/github/Raymond-0314/ProgrammingAndApplication/blob/main/EX01_04_%E7%B5%82%E6%A5%B5%E5%AF%86%E7%A2%BC.ipynb\" target=\"_parent\"><img src=\"https://colab.research.google.com/assets/colab-badge.svg\" alt=\"Open In Colab\"/></a>"
      ]
    },
    {
      "cell_type": "markdown",
      "source": [
        "#原始版本"
      ],
      "metadata": {
        "id": "57CjyDPrAmCZ"
      }
    },
    {
      "cell_type": "code",
      "execution_count": null,
      "metadata": {
        "id": "wND5Um93y_tU"
      },
      "outputs": [],
      "source": [
        "import random\n",
        "\n",
        "randomNumber = random.randint(1, 99)\n",
        "playerGuess = 0\n",
        "min = 1\n",
        "max = 99\n",
        "\n",
        "while True:\n",
        "  print(\"請輸入\", min, \"到\", max, \"間的數字 = \")\n",
        "  playerGuess = int(input())\n",
        "\n",
        "  if playerGuess == randomNumber:\n",
        "    break\n",
        "  elif playerGuess < min or playerGuess > max:\n",
        "    print(\"輸入超出範圍\")\n",
        "  else:\n",
        "    if playerGuess > randomNumber and playerGuess < max:\n",
        "      max = playerGuess\n",
        "    elif playerGuess < randomNumber and playerGuess > min:\n",
        "      min = playerGuess\n",
        "\n",
        "print(\"恭喜！你猜中了數字\")"
      ]
    },
    {
      "cell_type": "markdown",
      "source": [
        "#每次都清除輸出\n"
      ],
      "metadata": {
        "id": "z5YszV0v5bBe"
      }
    },
    {
      "cell_type": "code",
      "source": [
        "import random\n",
        "from IPython.display import clear_output\n",
        "\n",
        "randomNumber = random.randint(1, 99)\n",
        "playerGuess = 0\n",
        "min = 1\n",
        "max = 99\n",
        "outOfRange = False\n",
        "\n",
        "while True:\n",
        "  clear_output()\n",
        "\n",
        "  if outOfRange:\n",
        "    print(\"輸入超出範圍，請輸入\", min, \"到\", max, \"間的數字 = \")\n",
        "  else:\n",
        "    print(\"請輸入\", min, \"到\", max, \"間的數字 = \")\n",
        "\n",
        "  playerGuess = int(input())\n",
        "\n",
        "  if playerGuess == randomNumber:\n",
        "    break\n",
        "  elif playerGuess < min or playerGuess > max:\n",
        "    outOfRange = True\n",
        "    #print(\"輸入超出範圍\")\n",
        "  else:\n",
        "    if playerGuess > randomNumber and playerGuess < max:\n",
        "      max = playerGuess\n",
        "    elif playerGuess < randomNumber and playerGuess > min:\n",
        "      min = playerGuess\n",
        "\n",
        "clear_output()\n",
        "print(\"恭喜！你猜中了數字\")"
      ],
      "metadata": {
        "colab": {
          "base_uri": "https://localhost:8080/"
        },
        "id": "4d_TPPoQ5UuJ",
        "outputId": "37e7f993-6188-4d91-cb2c-210fd87a85ce"
      },
      "execution_count": 17,
      "outputs": [
        {
          "output_type": "stream",
          "name": "stdout",
          "text": [
            "輸入超出範圍，請輸入 51 到 53 間的數字 = \n",
            "52\n",
            "恭喜！你猜中了數字\n"
          ]
        }
      ]
    },
    {
      "cell_type": "markdown",
      "source": [
        "#增加數據紀錄"
      ],
      "metadata": {
        "id": "1bE7a8yH6WE3"
      }
    },
    {
      "cell_type": "code",
      "source": [
        "import random\n",
        "from IPython.display import clear_output\n",
        "\n",
        "randomNumber = random.randint(1, 99)\n",
        "playerGuess = 0\n",
        "min = 1\n",
        "max = 99\n",
        "outOfRange = False\n",
        "guessTime = 0\n",
        "outOfRangeTime = 0\n",
        "inRangeTime = 0\n",
        "guessList = []\n",
        "\n",
        "while True:\n",
        "  guessTime += 1\n",
        "\n",
        "  clear_output()\n",
        "\n",
        "  if outOfRange:\n",
        "    print(\"輸入超出範圍，請輸入\", min, \"到\", max, \"間的數字 ： \")\n",
        "  else:\n",
        "    print(\"請輸入\", min, \"到\", max, \"間的數字 ： \")\n",
        "\n",
        "  playerGuess = int(input())\n",
        "  guessList.append(playerGuess)\n",
        "\n",
        "  if playerGuess == randomNumber:\n",
        "    inRangeTime += 1\n",
        "    break\n",
        "  elif playerGuess < min or playerGuess > max:\n",
        "    outOfRangeTime += 1\n",
        "    outOfRange = True\n",
        "  else:\n",
        "    if playerGuess > randomNumber and playerGuess < max:\n",
        "      max = playerGuess\n",
        "    elif playerGuess < randomNumber and playerGuess > min:\n",
        "      min = playerGuess\n",
        "    inRangeTime += 1\n",
        "\n",
        "clear_output()\n",
        "print(\"恭喜！你猜中了終極密碼！\\n\")\n",
        "print(\"你總共猜了\", guessTime, \"次\")\n",
        "print(\"這些是你猜的數字：\", guessList)\n",
        "print(\"其中有\", outOfRangeTime, \"次猜測超出範圍，\", inRangeTime,\"次猜測在範圍內\")"
      ],
      "metadata": {
        "colab": {
          "base_uri": "https://localhost:8080/"
        },
        "id": "o573DDW56VHK",
        "outputId": "f804fce2-d420-4397-eef8-7415ca3956d9"
      },
      "execution_count": 23,
      "outputs": [
        {
          "output_type": "stream",
          "name": "stdout",
          "text": [
            "恭喜！你猜中了終極密碼！\n",
            "\n",
            "你總共猜了 6 次\n",
            "這些是你猜的數字： [50, 30, 100, 25, 45, 46]\n",
            "其中有 2 次猜測超出範圍， 4 次猜測在範圍內\n"
          ]
        }
      ]
    }
  ]
}