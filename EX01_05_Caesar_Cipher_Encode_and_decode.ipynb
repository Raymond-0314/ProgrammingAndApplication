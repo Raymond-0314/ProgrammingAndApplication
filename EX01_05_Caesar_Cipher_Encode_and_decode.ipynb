{
  "nbformat": 4,
  "nbformat_minor": 0,
  "metadata": {
    "colab": {
      "provenance": [],
      "authorship_tag": "ABX9TyN0h96ol4hzO9byX2GBCl95",
      "include_colab_link": true
    },
    "kernelspec": {
      "name": "python3",
      "display_name": "Python 3"
    },
    "language_info": {
      "name": "python"
    }
  },
  "cells": [
    {
      "cell_type": "markdown",
      "metadata": {
        "id": "view-in-github",
        "colab_type": "text"
      },
      "source": [
        "<a href=\"https://colab.research.google.com/github/Raymond-0314/ProgrammingAndApplication/blob/main/EX01_05_Caesar_Cipher_Encode_and_decode.ipynb\" target=\"_parent\"><img src=\"https://colab.research.google.com/assets/colab-badge.svg\" alt=\"Open In Colab\"/></a>"
      ]
    },
    {
      "cell_type": "markdown",
      "source": [
        "#原始版本"
      ],
      "metadata": {
        "id": "A-FaQNktEtOz"
      }
    },
    {
      "cell_type": "code",
      "execution_count": 6,
      "metadata": {
        "colab": {
          "base_uri": "https://localhost:8080/"
        },
        "id": "sG-6QLlcBQ0b",
        "outputId": "eaa0b2a8-199e-4b28-b852-e4633fb04e87"
      },
      "outputs": [
        {
          "output_type": "stream",
          "name": "stdout",
          "text": [
            "請輸入加解密及金鑰 = d6\n",
            "請輸入想要加解密的文字 = nkrru\n",
            "hello\n"
          ]
        }
      ],
      "source": [
        "act = input(\"請輸入加解密及金鑰 = \")\n",
        "\n",
        "act_type = act[0]\n",
        "key = int(act[1:])\n",
        "txt = input(\"請輸入想要加解密的文字 = \")\n",
        "ntxt = ''\n",
        "\n",
        "if act_type == 'd':\n",
        "  for c in txt:\n",
        "    nc = ord(c) - key\n",
        "    ntxt = ntxt + chr(nc)\n",
        "else:\n",
        "  for c in txt:\n",
        "    nc = ord(c) + key\n",
        "    ntxt = ntxt + chr(nc)\n",
        "\n",
        "print(ntxt)"
      ]
    },
    {
      "cell_type": "markdown",
      "source": [
        "#加解密分離"
      ],
      "metadata": {
        "id": "Qi60PW64JOcn"
      }
    },
    {
      "cell_type": "code",
      "source": [
        "act = input(\"請輸入加解密及金鑰 = \")\n",
        "\n",
        "act_type = act[0]\n",
        "key = int(act[1:])\n",
        "txt = ''\n",
        "ntxt = ''\n",
        "\n",
        "if act_type == 'd':\n",
        "  print(\"你選擇了解密功能，金鑰是\", key)\n",
        "  txt = input(\"\\n請輸入想要解密的文字 = \")\n",
        "\n",
        "  for c in txt:\n",
        "    nc = ord(c) - key\n",
        "    ntxt = ntxt + chr(nc)\n",
        "\n",
        "  print(\"解密後的文字是：\", ntxt)\n",
        "else:\n",
        "  print(\"你選擇了加密功能，金鑰是\", key)\n",
        "  txt = input(\"\\n請輸入想要加密的文字 = \")\n",
        "\n",
        "  for c in txt:\n",
        "    nc = ord(c) + key\n",
        "    ntxt = ntxt + chr(nc)\n",
        "\n",
        "  print(\"\\n加密後的文字是 =\", ntxt)"
      ],
      "metadata": {
        "colab": {
          "base_uri": "https://localhost:8080/"
        },
        "id": "_bNUmJ6GJSgr",
        "outputId": "83ffee2c-3ece-4a8e-87dc-09d77244154f"
      },
      "execution_count": 9,
      "outputs": [
        {
          "output_type": "stream",
          "name": "stdout",
          "text": [
            "請輸入加解密及金鑰 = d8\n",
            "你選擇了解密功能，金鑰是 8\n",
            "\n",
            "請輸入想要解密的文字 = uqi\n",
            "解密後的文字是： mia\n"
          ]
        }
      ]
    }
  ]
}