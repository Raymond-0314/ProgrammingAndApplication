{
  "nbformat": 4,
  "nbformat_minor": 0,
  "metadata": {
    "colab": {
      "provenance": [],
      "authorship_tag": "ABX9TyOVIS2z/l24F7/uLs6CXXe5",
      "include_colab_link": true
    },
    "kernelspec": {
      "name": "python3",
      "display_name": "Python 3"
    },
    "language_info": {
      "name": "python"
    }
  },
  "cells": [
    {
      "cell_type": "markdown",
      "metadata": {
        "id": "view-in-github",
        "colab_type": "text"
      },
      "source": [
        "<a href=\"https://colab.research.google.com/github/Raymond-0314/ProgrammingAndApplication/blob/main/EX02_03_Yahoo_%E6%96%B0%E8%81%9E%E5%84%B2%E5%AD%98_Google_%E8%A9%A6%E7%AE%97%E8%A1%A8.ipynb\" target=\"_parent\"><img src=\"https://colab.research.google.com/assets/colab-badge.svg\" alt=\"Open In Colab\"/></a>"
      ]
    },
    {
      "cell_type": "markdown",
      "source": [
        "安裝feedparser匯入函式庫"
      ],
      "metadata": {
        "id": "GAVtJYPe_0FT"
      }
    },
    {
      "cell_type": "code",
      "source": [
        "!pip install feedparser"
      ],
      "metadata": {
        "id": "Mzc5UeQg_L_v"
      },
      "execution_count": null,
      "outputs": []
    },
    {
      "cell_type": "markdown",
      "source": [
        "抓取Yahoo新聞資料"
      ],
      "metadata": {
        "id": "xpK-7WHk_472"
      }
    },
    {
      "cell_type": "code",
      "execution_count": 8,
      "metadata": {
        "id": "18IrwTzL_CEB"
      },
      "outputs": [],
      "source": [
        "import feedparser\n",
        "feed_url = \"https://tw.news.yahoo.com/rss\"\n",
        "feed_data = feedparser.parse(feed_url)"
      ]
    },
    {
      "cell_type": "markdown",
      "source": [
        "取得試算表權限"
      ],
      "metadata": {
        "id": "zKcp0urhAFs6"
      }
    },
    {
      "cell_type": "code",
      "source": [
        "# 引入相關模組\n",
        "from google.colab import auth\n",
        "from google.auth import default\n",
        "import gspread\n",
        "\n",
        "auth.authenticate_user() # 進行授權\n",
        "creds, _ = default() # 使用 default 方法獲取驗證信息\n",
        "gc = gspread.authorize(creds) # 使用 creds 變數授權 gspread 模組"
      ],
      "metadata": {
        "id": "3gbaaF1T_kal"
      },
      "execution_count": 9,
      "outputs": []
    },
    {
      "cell_type": "markdown",
      "source": [
        "將XML檔案存到試算表"
      ],
      "metadata": {
        "id": "frnY5oZYBWHw"
      }
    },
    {
      "cell_type": "code",
      "source": [
        "# 開啟 Google 試算表\n",
        "url = 'https://docs.google.com/spreadsheets/d/1IEvt4B-kkAvqM44GPHwZ_qn_Xm-ey2cZg3Y9iUpeDCI/edit?gid=0#gid=0'\n",
        "workbook = gc.open_by_url(url)\n",
        "# 獲取工作簿中索引為 0 的工作表，並將其儲存在 sheet 變數中\n",
        "sheet = workbook.get_worksheet(0)\n",
        "#清空試算表\n",
        "sheet.clear()\n",
        "# 新增一列資料\n",
        "sheet.append_row(['title','summary','link'])\n",
        "for entry in feed_data.entries:\n",
        "  sheet.append_row([entry.title, entry.summary, entry.link])"
      ],
      "metadata": {
        "id": "8AxUit5d_tDb"
      },
      "execution_count": 14,
      "outputs": []
    },
    {
      "cell_type": "markdown",
      "source": [
        "V2-存取更多資料"
      ],
      "metadata": {
        "id": "zck503sGBiGw"
      }
    },
    {
      "cell_type": "code",
      "source": [
        "import feedparser\n",
        "import time\n",
        "\n",
        "# 開啟 Google 試算表\n",
        "url = 'https://docs.google.com/spreadsheets/d/1IEvt4B-kkAvqM44GPHwZ_qn_Xm-ey2cZg3Y9iUpeDCI/edit?gid=0#gid=0'\n",
        "workbook = gc.open_by_url(url)\n",
        "# 獲取工作簿中索引為 0 的工作表，並將其儲存在 sheet 變數中\n",
        "sheet = workbook.get_worksheet(0)\n",
        "#清空試算表\n",
        "sheet.clear()\n",
        "# 新增一列資料\n",
        "sheet.append_row(['序號', '新聞標題', '日期', '時間', '新聞摘要','連結'])\n",
        "i = 1\n",
        "for entry in feed_data.entries:\n",
        "  # 假設 entry 是 feedparser.entries 中的一項\n",
        "  published_time = entry.published_parsed  # 取得時間元組\n",
        "  # 將時間元組格式化為簡單時間格式，例如 \"2025-03-18 06:43:25\"\n",
        "  day = time.strftime(\"%Y-%m-%d\", published_time)\n",
        "  time_ = time.strftime(\"%H:%M:%S\", published_time)\n",
        "  sheet.append_row([i, entry.title, day, time_, entry.summary, entry.link])\n",
        "  i+=1"
      ],
      "metadata": {
        "id": "8VCIQKUfBLZj"
      },
      "execution_count": 27,
      "outputs": []
    }
  ]
}