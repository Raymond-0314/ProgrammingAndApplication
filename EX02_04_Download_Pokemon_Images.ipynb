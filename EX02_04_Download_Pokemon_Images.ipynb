{
  "nbformat": 4,
  "nbformat_minor": 0,
  "metadata": {
    "colab": {
      "provenance": [],
      "authorship_tag": "ABX9TyNb7UiS8z7H1Ga988WaJSYA",
      "include_colab_link": true
    },
    "kernelspec": {
      "name": "python3",
      "display_name": "Python 3"
    },
    "language_info": {
      "name": "python"
    }
  },
  "cells": [
    {
      "cell_type": "markdown",
      "metadata": {
        "id": "view-in-github",
        "colab_type": "text"
      },
      "source": [
        "<a href=\"https://colab.research.google.com/github/Raymond-0314/ProgrammingAndApplication/blob/main/EX02_04_Download_Pokemon_Images.ipynb\" target=\"_parent\"><img src=\"https://colab.research.google.com/assets/colab-badge.svg\" alt=\"Open In Colab\"/></a>"
      ]
    },
    {
      "cell_type": "code",
      "execution_count": null,
      "metadata": {
        "id": "1iN-afkqPxaq"
      },
      "outputs": [],
      "source": [
        "import requests\n",
        "url = 'https://tw.portal-pokemon.com/play/pokedex/0001'\n",
        "\n",
        "response = requests.get(url)\n",
        "response.text"
      ]
    },
    {
      "cell_type": "code",
      "source": [
        "from bs4 import BeautifulSoup\n",
        "\n",
        "soup = BeautifulSoup(response.text, 'lxml')"
      ],
      "metadata": {
        "id": "m7tcnLJZWI2M"
      },
      "execution_count": 10,
      "outputs": []
    },
    {
      "cell_type": "code",
      "source": [
        "img_url = 'https://tw.portal-pokemon.com' + soup.find('img', class_='pokemon-img__front')['src']\n",
        "\n",
        "img = requests.get(img_url)\n",
        "with open('00001.png', 'wb') as f:\n",
        "  f.write(img.content)"
      ],
      "metadata": {
        "id": "HVQCJRWIWuQo"
      },
      "execution_count": 13,
      "outputs": []
    },
    {
      "cell_type": "code",
      "source": [
        "import requests\n",
        "from bs4 import BeautifulSoup\n",
        "\n",
        "for i in range(1, 11):\n",
        "  id = f'{i:04}'\n",
        "  url = f'https://tw.portal-pokemon.com/play/pokedex/{id}'\n",
        "  response = requests.get(url)\n",
        "  soup = BeautifulSoup(response.text, 'lxml')\n",
        "  img_url = 'https://tw.portal-pokemon.com' + soup.find('img', class_='pokemon-img__front')['src']\n",
        "  img = requests.get(img_url)\n",
        "  with open(f'{id}.png', 'wb') as f:\n",
        "    f.write(img.content)"
      ],
      "metadata": {
        "id": "rOrG7skjYa9l"
      },
      "execution_count": 15,
      "outputs": []
    }
  ]
}