{
  "nbformat": 4,
  "nbformat_minor": 0,
  "metadata": {
    "colab": {
      "provenance": [],
      "authorship_tag": "ABX9TyNl64WKBJvx73sZ1HHoy75b",
      "include_colab_link": true
    },
    "kernelspec": {
      "name": "python3",
      "display_name": "Python 3"
    },
    "language_info": {
      "name": "python"
    }
  },
  "cells": [
    {
      "cell_type": "markdown",
      "metadata": {
        "id": "view-in-github",
        "colab_type": "text"
      },
      "source": [
        "<a href=\"https://colab.research.google.com/github/Raymond-0314/ProgrammingAndApplication/blob/main/nb02.ipynb\" target=\"_parent\"><img src=\"https://colab.research.google.com/assets/colab-badge.svg\" alt=\"Open In Colab\"/></a>"
      ]
    },
    {
      "cell_type": "markdown",
      "source": [
        "#requese取得get資料"
      ],
      "metadata": {
        "id": "Lcfg2q118dG1"
      }
    },
    {
      "cell_type": "code",
      "execution_count": 4,
      "metadata": {
        "colab": {
          "base_uri": "https://localhost:8080/"
        },
        "id": "U_DL4THT6Hly",
        "outputId": "08f26ff5-ae33-4b1e-fa53-044f595b1c4b"
      },
      "outputs": [
        {
          "output_type": "stream",
          "name": "stdout",
          "text": [
            "200\n"
          ]
        }
      ],
      "source": [
        "import requests\n",
        "url = \"https://api.github.com\"\n",
        "response = requests.get(url)\n",
        "print(response.status_code)"
      ]
    },
    {
      "cell_type": "markdown",
      "source": [
        "#下載YouTube影片縮圖"
      ],
      "metadata": {
        "id": "yoxVI-cn8jgq"
      }
    },
    {
      "cell_type": "markdown",
      "source": [
        "方法1 使用requests函式庫"
      ],
      "metadata": {
        "id": "hAEa3JG88rAx"
      }
    },
    {
      "cell_type": "code",
      "source": [
        "# 圖片下載\n",
        "# https://youtu.be/ZvqnkRd1iyw\n",
        "# https://img.youtube.com/vi/ZvqnkRd1iyw/sddefault.jpg\n",
        "import requests\n",
        "url = 'https://i.ytimg.com/vi/cxvPZuvDRJw/hqdefault.jpg?sqp=-oaymwEnCOADEI4CSFryq4qpAxkIARUAAIhCGAHYAQHiAQoIGBACGAY4AUAB&rs=AOn4CLAtfNL6INfxMVmik5zeYnVg9UPDMw'\n",
        "r = requests.get(url)\n",
        "with open('SLR1.jpg', 'wb') as f:\n",
        "    f.write(r.content)"
      ],
      "metadata": {
        "id": "dJXNtRB_7vN5"
      },
      "execution_count": 10,
      "outputs": []
    },
    {
      "cell_type": "markdown",
      "source": [
        "方法2 使用wget指令"
      ],
      "metadata": {
        "id": "g2O8lh2I81eA"
      }
    },
    {
      "cell_type": "code",
      "source": [
        "# 用 wget 指令\n",
        "!wget -O s2.jpg https://i.ytimg.com/vi/r7C3coqQT2Y/hqdefault.jpg?sqp=-oaymwEnCOADEI4CSFryq4qpAxkIARUAAIhCGAHYAQHiAQoIGBACGAY4AUAB&rs=AOn4CLCoxOf4tvbY1sI93Jh8VZUsAy6E3Q"
      ],
      "metadata": {
        "colab": {
          "base_uri": "https://localhost:8080/"
        },
        "id": "m-OY_qAR8TdC",
        "outputId": "011c3df8-e849-435e-80ed-47027d9c1efa"
      },
      "execution_count": 11,
      "outputs": [
        {
          "output_type": "stream",
          "name": "stdout",
          "text": [
            "--2025-03-11 06:46:45--  https://i.ytimg.com/vi/r7C3coqQT2Y/hqdefault.jpg?sqp=-oaymwEnCOADEI4CSFryq4qpAxkIARUAAIhCGAHYAQHiAQoIGBACGAY4AUAB\n",
            "Resolving i.ytimg.com (i.ytimg.com)... 172.253.117.119, 142.250.99.119, 108.177.98.119, ...\n",
            "Connecting to i.ytimg.com (i.ytimg.com)|172.253.117.119|:443... connected.\n",
            "HTTP request sent, awaiting response... 200 OK\n",
            "Length: 31290 (31K) [image/jpeg]\n",
            "Saving to: ‘s2.jpg’\n",
            "\n",
            "\rs2.jpg                0%[                    ]       0  --.-KB/s               \rs2.jpg              100%[===================>]  30.56K  --.-KB/s    in 0s      \n",
            "\n",
            "2025-03-11 06:46:45 (68.2 MB/s) - ‘s2.jpg’ saved [31290/31290]\n",
            "\n"
          ]
        }
      ]
    },
    {
      "cell_type": "code",
      "source": [],
      "metadata": {
        "id": "wOk5DaU4800w"
      },
      "execution_count": null,
      "outputs": []
    }
  ]
}